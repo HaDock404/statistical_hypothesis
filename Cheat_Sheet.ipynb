{
 "cells": [
  {
   "cell_type": "markdown",
   "id": "dfc044b8",
   "metadata": {},
   "source": [
    "# 17 tests d'hypothèses statistiques en Python"
   ]
  },
  {
   "cell_type": "markdown",
   "id": "675199ea",
   "metadata": {},
   "source": [
    "#### Guide de référence de 17 tests d'hypothèses statistiques"
   ]
  },
  {
   "cell_type": "markdown",
   "id": "678c86bb",
   "metadata": {},
   "source": [
    "## 1. Normality Test\n",
    "Cette section répertorie les tests statistiques a utiliser pour vérifier si les données ont une distribution gaussienne."
   ]
  },
  {
   "cell_type": "markdown",
   "id": "72f03685",
   "metadata": {},
   "source": [
    "### Shapiro-Wilk Test\n",
    "#### Teste si un échantillon de données a une distribution gaussienne.\n",
    "\n",
    "Hypothèse : Les observations dans chaque échantillon sont indépendantes et distribuées de manière identique\n",
    "\n",
    "Interprétation :\n",
    "- h0 : l'échantillon a une distribution gaussienne.\n",
    "- h1 : l'échantillon n'a pas une distribution gaussienne.\n",
    "\n"
   ]
  },
  {
   "cell_type": "code",
   "execution_count": 1,
   "id": "9f4f9757",
   "metadata": {},
   "outputs": [
    {
     "name": "stdout",
     "output_type": "stream",
     "text": [
      "stat=0.895, p=0.193\n",
      "Probably Gaussian\n"
     ]
    }
   ],
   "source": [
    "# Example of the Shapiro-Wilk Normality Test\n",
    "from scipy.stats import shapiro\n",
    "data = [0.873, 2.817, 0.121, -0.945, -0.055, -1.436, 0.360, -1.478, -1.637, -1.869]\n",
    "stat, p = shapiro(data)\n",
    "print('stat=%.3f, p=%.3f' % (stat, p))\n",
    "if p > 0.05:\n",
    " print('Probably Gaussian')\n",
    "else:\n",
    " print('Probably not Gaussian')"
   ]
  },
  {
   "cell_type": "markdown",
   "id": "467ac19b",
   "metadata": {},
   "source": [
    "### D’Agostino’s K^2 Test\n",
    "#### Teste si un échantillon de données a une distribution gaussienne.\n",
    "Hypothèse : Les observations dans chaque échantillon sont indépendantes et distribuées de manière identique\n",
    "\n",
    "Interprétation :\n",
    "- h0 : l'échantillon a une distribution gaussienne.\n",
    "- h1 : l'échantillon n'a pas une distribution gaussienne."
   ]
  },
  {
   "cell_type": "code",
   "execution_count": 2,
   "id": "5ff8c5a5",
   "metadata": {},
   "outputs": [
    {
     "name": "stdout",
     "output_type": "stream",
     "text": [
      "stat=3.392, p=0.183\n",
      "Probably Gaussian\n"
     ]
    },
    {
     "name": "stderr",
     "output_type": "stream",
     "text": [
      "/Applications/anaconda3/lib/python3.10/site-packages/scipy/stats/_stats_py.py:1736: UserWarning: kurtosistest only valid for n>=20 ... continuing anyway, n=10\n",
      "  warnings.warn(\"kurtosistest only valid for n>=20 ... continuing \"\n"
     ]
    }
   ],
   "source": [
    "# Example of the D'Agostino's K^2 Normality Test\n",
    "from scipy.stats import normaltest\n",
    "data = [0.873, 2.817, 0.121, -0.945, -0.055, -1.436, 0.360, -1.478, -1.637, -1.869]\n",
    "stat, p = normaltest(data)\n",
    "print('stat=%.3f, p=%.3f' % (stat, p))\n",
    "if p > 0.05:\n",
    " print('Probably Gaussian')\n",
    "else:\n",
    " print('Probably not Gaussian')"
   ]
  },
  {
   "cell_type": "markdown",
   "id": "c0706902",
   "metadata": {},
   "source": [
    "### Anderson-Darling Test\n",
    "#### Teste si un échantillon de données a une distribution gaussienne.\n",
    "Hypothèse : Les observations dans chaque échantillon sont indépendantes et distribuées de manière identique\n",
    "\n",
    "Interprétation :\n",
    "- h0 : l'échantillon a une distribution gaussienne.\n",
    "- h1 : l'échantillon n'a pas une distribution gaussienne."
   ]
  },
  {
   "cell_type": "code",
   "execution_count": 4,
   "id": "1a591d0b",
   "metadata": {},
   "outputs": [
    {
     "name": "stdout",
     "output_type": "stream",
     "text": [
      "stat=0.424\n",
      "Probably Gaussian at the 15.0% level\n",
      "Probably Gaussian at the 10.0% level\n",
      "Probably Gaussian at the 5.0% level\n",
      "Probably Gaussian at the 2.5% level\n",
      "Probably Gaussian at the 1.0% level\n"
     ]
    }
   ],
   "source": [
    "# Example of the Anderson-Darling Normality Test\n",
    "from scipy.stats import anderson\n",
    "data = [0.873, 2.817, 0.121, -0.945, -0.055, -1.436, 0.360, -1.478, -1.637, -1.869]\n",
    "result = anderson(data)\n",
    "print('stat=%.3f' % (result.statistic))\n",
    "for i in range(len(result.critical_values)):\n",
    " sl, cv = result.significance_level[i], result.critical_values[i]\n",
    " if result.statistic < cv:\n",
    "     print('Probably Gaussian at the %.1f%% level' % (sl))\n",
    " else:\n",
    "     print('Probably not Gaussian at the %.1f%% level' % (sl))"
   ]
  },
  {
   "cell_type": "markdown",
   "id": "eb78adb7",
   "metadata": {},
   "source": [
    "## 2. Test de corrélation\n",
    "Cette section répertorie les tests statistiques a utiliser pour vérifier si deux échantillons sont liés."
   ]
  },
  {
   "cell_type": "markdown",
   "id": "8217dacc",
   "metadata": {},
   "source": [
    "### Corrélation de Pearson\n",
    "#### Teste si deux échantillons ont une relation linéaire.\n",
    "Hypothèse : \n",
    "- Les observations dans chaque échantillon sont indépendantes et distribuées de manière identique\n",
    "- Les observations dans chaque échantillon sont normalement distribuées.\n",
    "- Les observations dans chaque échantillon ont la même variance.\n",
    "\n",
    "\n",
    "Interprétation :\n",
    "- h0 : les deux échantillons sont indépendants.\n",
    "- h1 : il existe une dépendance entre les échantillons."
   ]
  },
  {
   "cell_type": "code",
   "execution_count": 6,
   "id": "59996eeb",
   "metadata": {},
   "outputs": [
    {
     "name": "stdout",
     "output_type": "stream",
     "text": [
      "stat=0.688, p=0.028\n",
      "Probably dependent\n"
     ]
    }
   ],
   "source": [
    "# Example of the Pearson's Correlation test\n",
    "from scipy.stats import pearsonr\n",
    "data1 = [0.873, 2.817, 0.121, -0.945, -0.055, -1.436, 0.360, -1.478, -1.637, -1.869]\n",
    "data2 = [0.353, 3.517, 0.125, -7.545, -0.555, -1.536, 3.350, -1.578, -3.537, -1.579]\n",
    "stat, p = pearsonr(data1, data2)\n",
    "print('stat=%.3f, p=%.3f' % (stat, p))\n",
    "if p > 0.05:\n",
    " print('Probably independent')\n",
    "else:\n",
    " print('Probably dependent')"
   ]
  },
  {
   "cell_type": "markdown",
   "id": "ae48ffbc",
   "metadata": {},
   "source": [
    "### Corrélation des rangs de Spearman\n",
    "#### Teste si deux échantillons ont une relation monotone.\n",
    "Hypothèse : \n",
    "- Les observations dans chaque échantillon sont indépendantes et distribuées de manière identique\n",
    "- Les observations dans chaque échantillon peuvent être classées\n",
    "\n",
    "Interprétation :\n",
    "- h0 : les deux échantillons sont indépendants.\n",
    "- h1 : il existe une dépendance entre les échantillons."
   ]
  },
  {
   "cell_type": "code",
   "execution_count": 7,
   "id": "a0cd0f24",
   "metadata": {},
   "outputs": [
    {
     "name": "stdout",
     "output_type": "stream",
     "text": [
      "stat=0.855, p=0.002\n",
      "Probably dependent\n"
     ]
    }
   ],
   "source": [
    "# Example of the Spearman's Rank Correlation Test\n",
    "from scipy.stats import spearmanr\n",
    "data1 = [0.873, 2.817, 0.121, -0.945, -0.055, -1.436, 0.360, -1.478, -1.637, -1.869]\n",
    "data2 = [0.353, 3.517, 0.125, -7.545, -0.555, -1.536, 3.350, -1.578, -3.537, -1.579]\n",
    "stat, p = spearmanr(data1, data2)\n",
    "print('stat=%.3f, p=%.3f' % (stat, p))\n",
    "if p > 0.05:\n",
    " print('Probably independent')\n",
    "else:\n",
    " print('Probably dependent')"
   ]
  },
  {
   "cell_type": "markdown",
   "id": "bb5dd640",
   "metadata": {},
   "source": [
    "### Corrélation des classements de Kendall\n",
    "#### Teste si deux échantillons ont une relation monotone.\n",
    "Hypothèse : \n",
    "- Les observations dans chaque échantillon sont indépendantes et distribuées de manière identique\n",
    "- Les observations dans chaque échantillon peuvent être classées\n",
    "\n",
    "Interprétation :\n",
    "- h0 : les deux échantillons sont indépendants.\n",
    "- h1 : il existe une dépendance entre les échantillons."
   ]
  },
  {
   "cell_type": "code",
   "execution_count": 8,
   "id": "ce39c312",
   "metadata": {},
   "outputs": [
    {
     "name": "stdout",
     "output_type": "stream",
     "text": [
      "stat=0.733, p=0.002\n",
      "Probably dependent\n"
     ]
    }
   ],
   "source": [
    "# Example of the Kendall's Rank Correlation Test\n",
    "from scipy.stats import kendalltau\n",
    "data1 = [0.873, 2.817, 0.121, -0.945, -0.055, -1.436, 0.360, -1.478, -1.637, -1.869]\n",
    "data2 = [0.353, 3.517, 0.125, -7.545, -0.555, -1.536, 3.350, -1.578, -3.537, -1.579]\n",
    "stat, p = kendalltau(data1, data2)\n",
    "print('stat=%.3f, p=%.3f' % (stat, p))\n",
    "if p > 0.05:\n",
    " print('Probably independent')\n",
    "else:\n",
    " print('Probably dependent')"
   ]
  },
  {
   "cell_type": "markdown",
   "id": "13dac921",
   "metadata": {},
   "source": [
    "### Test du chi carré\n",
    "#### Teste si deux variables catégorielles sont liées ou indépendantes.\n",
    "Hypothèse : \n",
    "- Les observations utilisées dans le calcul du tableau de contingence sont indépendantes.\n",
    "- 25 exemples ou plus dans chaque cellule du tableau de contingence.\n",
    "\n",
    "Interprétation :\n",
    "- h0 : les deux échantillons sont indépendants.\n",
    "- h1 : il existe une dépendance entre les échantillons."
   ]
  },
  {
   "cell_type": "code",
   "execution_count": 9,
   "id": "3462c2d3",
   "metadata": {},
   "outputs": [
    {
     "name": "stdout",
     "output_type": "stream",
     "text": [
      "stat=0.272, p=0.873\n",
      "Probably independent\n"
     ]
    }
   ],
   "source": [
    "\n",
    "# Example of the Chi-Squared Test\n",
    "from scipy.stats import chi2_contingency\n",
    "table = [[10, 20, 30],[6,  9,  17]]\n",
    "stat, p, dof, expected = chi2_contingency(table)\n",
    "print('stat=%.3f, p=%.3f' % (stat, p))\n",
    "if p > 0.05:\n",
    " print('Probably independent')\n",
    "else:\n",
    " print('Probably dependent')"
   ]
  },
  {
   "cell_type": "markdown",
   "id": "cea1292f",
   "metadata": {},
   "source": [
    "## 3. Tests stationnaires\n",
    "Cette section répertorie les tests statistiques a utiliser pour vérifier si une série chronologique est stationnaire ou non."
   ]
  },
  {
   "cell_type": "markdown",
   "id": "49f20d55",
   "metadata": {},
   "source": [
    "### Test de racine unitaire Dickey-Fuller augmenté\n",
    "#### Teste si une série chronologique a une racine unitaire, par ex. a une tendance ou plus généralement est autorégressive.\n",
    "Hypothèse : \n",
    "- Les observations sont ordonnées temporellement.\n",
    "\n",
    "Interprétation :\n",
    "- h0 : une racine unitaire est présente (la série est non stationnaire).\n",
    "- h1 : il n’y a pas de racine unitaire (la série est stationnaire)."
   ]
  },
  {
   "cell_type": "code",
   "execution_count": 10,
   "id": "5bf8857e",
   "metadata": {},
   "outputs": [
    {
     "name": "stdout",
     "output_type": "stream",
     "text": [
      "stat=0.517, p=0.985\n",
      "Probably not Stationary\n"
     ]
    }
   ],
   "source": [
    "# Example of the Augmented Dickey-Fuller unit root test\n",
    "from statsmodels.tsa.stattools import adfuller\n",
    "data = [0, 1, 2, 3, 4, 5, 6, 7, 8, 9]\n",
    "stat, p, lags, obs, crit, t = adfuller(data)\n",
    "print('stat=%.3f, p=%.3f' % (stat, p))\n",
    "if p > 0.05:\n",
    " print('Probably not Stationary')\n",
    "else:\n",
    " print('Probably Stationary')"
   ]
  },
  {
   "cell_type": "markdown",
   "id": "d26f2d0d",
   "metadata": {},
   "source": [
    "### Kwiatkowski-Phillips-Schmidt-Shin\n",
    "#### Teste si une série chronologique est stationnaire ou non.\n",
    "Hypothèse : \n",
    "- Les observations sont ordonnées temporellement.\n",
    "\n",
    "Interprétation :\n",
    "- h0 : la série chronologique est tendance-stationnaire.\n",
    "- h1 : la série chronologique n’est pas stationnaire en tendance."
   ]
  },
  {
   "cell_type": "code",
   "execution_count": 11,
   "id": "c38e0715",
   "metadata": {},
   "outputs": [
    {
     "name": "stdout",
     "output_type": "stream",
     "text": [
      "stat=0.594, p=0.023\n",
      "Probably not Stationary\n"
     ]
    }
   ],
   "source": [
    "# Example of the Kwiatkowski-Phillips-Schmidt-Shin test\n",
    "from statsmodels.tsa.stattools import kpss\n",
    "data = [0, 1, 2, 3, 4, 5, 6, 7, 8, 9]\n",
    "stat, p, lags, crit = kpss(data)\n",
    "print('stat=%.3f, p=%.3f' % (stat, p))\n",
    "if p > 0.05:\n",
    " print('Probably Stationary')\n",
    "else:\n",
    " print('Probably not Stationary')"
   ]
  },
  {
   "cell_type": "markdown",
   "id": "52b9900c",
   "metadata": {},
   "source": [
    "## 4. Tests d'hypothèses statistiques paramétriques\n",
    "Cette section répertorie les tests statistiques a utiliser pour comparer des échantillons de données."
   ]
  },
  {
   "cell_type": "markdown",
   "id": "779a39aa",
   "metadata": {},
   "source": [
    "### Student’s t-test\n",
    "#### Teste si les moyennes de deux échantillons indépendants sont significativement différentes.\n",
    "Hypothèse : \n",
    "- Les observations dans chaque échantillon sont indépendantes et distribuées de manière identique\n",
    "- Les observations dans chaque échantillon sont normalement distribuées.\n",
    "- Les observations dans chaque échantillon ont la même variance.\n",
    "\n",
    "Interprétation :\n",
    "- h0 : les moyennes des échantillons sont égales.\n",
    "- h1 : les moyennes des échantillons sont inégales."
   ]
  },
  {
   "cell_type": "code",
   "execution_count": 12,
   "id": "369b83e7",
   "metadata": {},
   "outputs": [
    {
     "name": "stdout",
     "output_type": "stream",
     "text": [
      "stat=-0.326, p=0.748\n",
      "Probably the same distribution\n"
     ]
    }
   ],
   "source": [
    "# Example of the Student's t-test\n",
    "from scipy.stats import ttest_ind\n",
    "data1 = [0.873, 2.817, 0.121, -0.945, -0.055, -1.436, 0.360, -1.478, -1.637, -1.869]\n",
    "data2 = [1.142, -0.432, -0.938, -0.729, -0.846, -0.157, 0.500, 1.183, -1.075, -0.169]\n",
    "stat, p = ttest_ind(data1, data2)\n",
    "print('stat=%.3f, p=%.3f' % (stat, p))\n",
    "if p > 0.05:\n",
    " print('Probably the same distribution')\n",
    "else:\n",
    " print('Probably different distributions')"
   ]
  },
  {
   "cell_type": "markdown",
   "id": "dfc08d15",
   "metadata": {},
   "source": [
    "### Paired Student’s t-test\n",
    "#### Teste si les moyennes de deux échantillons indépendants sont significativement différentes.\n",
    "Hypothèse : \n",
    "- Les observations dans chaque échantillon sont indépendantes et distribuées de manière identique\n",
    "- Les observations dans chaque échantillon sont normalement distribuées.\n",
    "- Les observations dans chaque échantillon ont la même variance.\n",
    "- Les observations sur chaque échantillon sont appariées.\n",
    "\n",
    "Interprétation :\n",
    "- h0 : les moyennes des échantillons sont égales.\n",
    "- h1 : les moyennes des échantillons sont inégales."
   ]
  },
  {
   "cell_type": "code",
   "execution_count": 13,
   "id": "6d583549",
   "metadata": {},
   "outputs": [
    {
     "name": "stdout",
     "output_type": "stream",
     "text": [
      "stat=-0.334, p=0.746\n",
      "Probably the same distribution\n"
     ]
    }
   ],
   "source": [
    "# Example of the Paired Student's t-test\n",
    "from scipy.stats import ttest_rel\n",
    "data1 = [0.873, 2.817, 0.121, -0.945, -0.055, -1.436, 0.360, -1.478, -1.637, -1.869]\n",
    "data2 = [1.142, -0.432, -0.938, -0.729, -0.846, -0.157, 0.500, 1.183, -1.075, -0.169]\n",
    "stat, p = ttest_rel(data1, data2)\n",
    "print('stat=%.3f, p=%.3f' % (stat, p))\n",
    "if p > 0.05:\n",
    " print('Probably the same distribution')\n",
    "else:\n",
    " print('Probably different distributions')"
   ]
  },
  {
   "cell_type": "markdown",
   "id": "27e2fd07",
   "metadata": {},
   "source": [
    "### Test d'analyse de variance (ANOVA)\n",
    "#### Teste si les moyennes de deux échantillons indépendants sont significativement différentes.\n",
    "Hypothèse : \n",
    "- Les observations dans chaque échantillon sont indépendantes et distribuées de manière identique\n",
    "- Les observations dans chaque échantillon sont normalement distribuées.\n",
    "- Les observations dans chaque échantillon ont la même variance.\n",
    "\n",
    "Interprétation :\n",
    "- h0 : les moyennes des échantillons sont égales.\n",
    "- h1 : les moyennes des échantillons sont inégales."
   ]
  },
  {
   "cell_type": "code",
   "execution_count": 14,
   "id": "fcfb8ebf",
   "metadata": {},
   "outputs": [
    {
     "name": "stdout",
     "output_type": "stream",
     "text": [
      "stat=0.096, p=0.908\n",
      "Probably the same distribution\n"
     ]
    }
   ],
   "source": [
    "# Example of the Analysis of Variance Test\n",
    "from scipy.stats import f_oneway\n",
    "data1 = [0.873, 2.817, 0.121, -0.945, -0.055, -1.436, 0.360, -1.478, -1.637, -1.869]\n",
    "data2 = [1.142, -0.432, -0.938, -0.729, -0.846, -0.157, 0.500, 1.183, -1.075, -0.169]\n",
    "data3 = [-0.208, 0.696, 0.928, -1.148, -0.213, 0.229, 0.137, 0.269, -0.870, -1.204]\n",
    "stat, p = f_oneway(data1, data2, data3)\n",
    "print('stat=%.3f, p=%.3f' % (stat, p))\n",
    "if p > 0.05:\n",
    " print('Probably the same distribution')\n",
    "else:\n",
    " print('Probably different distributions')"
   ]
  },
  {
   "cell_type": "markdown",
   "id": "53f5793d",
   "metadata": {},
   "source": [
    "## 5. Tests d'hypothèses statistiques non paramétriques"
   ]
  },
  {
   "cell_type": "markdown",
   "id": "d3cf9b2f",
   "metadata": {},
   "source": [
    "### Mann-Whitney U Test\n",
    "#### Teste si les distributions de deux échantillons indépendants sont égales ou non.\n",
    "Hypothèse : \n",
    "- Les observations dans chaque échantillon sont indépendantes et distribuées de manière identique\n",
    "- Les observations dans chaque échantillon peuvent être classées.\n",
    "\n",
    "Interprétation :\n",
    "- h0 : les distributions des deux échantillons sont égales.\n",
    "- h1 : les distributions des deux échantillons ne sont pas égales."
   ]
  },
  {
   "cell_type": "code",
   "execution_count": 15,
   "id": "0bdb90b6",
   "metadata": {},
   "outputs": [
    {
     "name": "stdout",
     "output_type": "stream",
     "text": [
      "stat=40.000, p=0.473\n",
      "Probably the same distribution\n"
     ]
    }
   ],
   "source": [
    "# Example of the Mann-Whitney U Test\n",
    "from scipy.stats import mannwhitneyu\n",
    "data1 = [0.873, 2.817, 0.121, -0.945, -0.055, -1.436, 0.360, -1.478, -1.637, -1.869]\n",
    "data2 = [1.142, -0.432, -0.938, -0.729, -0.846, -0.157, 0.500, 1.183, -1.075, -0.169]\n",
    "stat, p = mannwhitneyu(data1, data2)\n",
    "print('stat=%.3f, p=%.3f' % (stat, p))\n",
    "if p > 0.05:\n",
    " print('Probably the same distribution')\n",
    "else:\n",
    " print('Probably different distributions')"
   ]
  },
  {
   "cell_type": "markdown",
   "id": "41945cf0",
   "metadata": {},
   "source": [
    "### Wilcoxon Signed-Rank Test\n",
    "#### Teste si les distributions de deux échantillons appariés sont égales ou non.\n",
    "Hypothèse : \n",
    "- Les observations dans chaque échantillon sont indépendantes et distribuées de manière identique\n",
    "- Les observations dans chaque échantillon peuvent être classées.\n",
    "- Les observations sur chaque échantillon sont appariées.\n",
    "\n",
    "Interprétation :\n",
    "- h0 : les distributions des deux échantillons sont égales.\n",
    "- h1 : les distributions des deux échantillons ne sont pas égales."
   ]
  },
  {
   "cell_type": "code",
   "execution_count": 16,
   "id": "6bb1a90c",
   "metadata": {},
   "outputs": [
    {
     "name": "stdout",
     "output_type": "stream",
     "text": [
      "stat=21.000, p=0.557\n",
      "Probably the same distribution\n"
     ]
    }
   ],
   "source": [
    "# Example of the Wilcoxon Signed-Rank Test\n",
    "from scipy.stats import wilcoxon\n",
    "data1 = [0.873, 2.817, 0.121, -0.945, -0.055, -1.436, 0.360, -1.478, -1.637, -1.869]\n",
    "data2 = [1.142, -0.432, -0.938, -0.729, -0.846, -0.157, 0.500, 1.183, -1.075, -0.169]\n",
    "stat, p = wilcoxon(data1, data2)\n",
    "print('stat=%.3f, p=%.3f' % (stat, p))\n",
    "if p > 0.05:\n",
    " print('Probably the same distribution')\n",
    "else:\n",
    " print('Probably different distributions')"
   ]
  },
  {
   "cell_type": "markdown",
   "id": "502d5e3c",
   "metadata": {},
   "source": [
    "### Kruskal-Wallis H Test\n",
    "#### Teste si les distributions de deux échantillons indépendants ou plus sont égales ou non.\n",
    "Hypothèse : \n",
    "- Les observations dans chaque échantillon sont indépendantes et distribuées de manière identique\n",
    "- Les observations dans chaque échantillon peuvent être classées.\n",
    "\n",
    "Interprétation :\n",
    "- h0 : les distributions des deux échantillons sont égales.\n",
    "- h1 : les distributions des deux échantillons ne sont pas égales."
   ]
  },
  {
   "cell_type": "code",
   "execution_count": 17,
   "id": "b5256421",
   "metadata": {},
   "outputs": [
    {
     "name": "stdout",
     "output_type": "stream",
     "text": [
      "stat=0.571, p=0.450\n",
      "Probably the same distribution\n"
     ]
    }
   ],
   "source": [
    "# Example of the Kruskal-Wallis H Test\n",
    "from scipy.stats import kruskal\n",
    "data1 = [0.873, 2.817, 0.121, -0.945, -0.055, -1.436, 0.360, -1.478, -1.637, -1.869]\n",
    "data2 = [1.142, -0.432, -0.938, -0.729, -0.846, -0.157, 0.500, 1.183, -1.075, -0.169]\n",
    "stat, p = kruskal(data1, data2)\n",
    "print('stat=%.3f, p=%.3f' % (stat, p))\n",
    "if p > 0.05:\n",
    " print('Probably the same distribution')\n",
    "else:\n",
    " print('Probably different distributions')"
   ]
  },
  {
   "cell_type": "markdown",
   "id": "13af4363",
   "metadata": {},
   "source": [
    "### Friedman Test\n",
    "#### Teste si les distributions de deux échantillons appariés ou plus sont égales ou non.\n",
    "Hypothèse : \n",
    "- Les observations dans chaque échantillon sont indépendantes et distribuées de manière identique\n",
    "- Les observations dans chaque échantillon peuvent être classées.\n",
    "- Les observations sur chaque échantillon sont appariées.\n",
    "\n",
    "Interprétation :\n",
    "- h0 : les distributions de tous les échantillons sont égales.\n",
    "- h1 : les distributions d'un ou plusieurs échantillons ne sont pas égales."
   ]
  },
  {
   "cell_type": "code",
   "execution_count": 18,
   "id": "07ebe611",
   "metadata": {},
   "outputs": [
    {
     "name": "stdout",
     "output_type": "stream",
     "text": [
      "stat=0.800, p=0.670\n",
      "Probably the same distribution\n"
     ]
    }
   ],
   "source": [
    "# Example of the Friedman Test\n",
    "from scipy.stats import friedmanchisquare\n",
    "data1 = [0.873, 2.817, 0.121, -0.945, -0.055, -1.436, 0.360, -1.478, -1.637, -1.869]\n",
    "data2 = [1.142, -0.432, -0.938, -0.729, -0.846, -0.157, 0.500, 1.183, -1.075, -0.169]\n",
    "data3 = [-0.208, 0.696, 0.928, -1.148, -0.213, 0.229, 0.137, 0.269, -0.870, -1.204]\n",
    "stat, p = friedmanchisquare(data1, data2, data3)\n",
    "print('stat=%.3f, p=%.3f' % (stat, p))\n",
    "if p > 0.05:\n",
    " print('Probably the same distribution')\n",
    "else:\n",
    " print('Probably different distributions')"
   ]
  },
  {
   "cell_type": "code",
   "execution_count": null,
   "id": "9dbd36fd",
   "metadata": {},
   "outputs": [],
   "source": []
  }
 ],
 "metadata": {
  "kernelspec": {
   "display_name": "Python 3 (ipykernel)",
   "language": "python",
   "name": "python3"
  },
  "language_info": {
   "codemirror_mode": {
    "name": "ipython",
    "version": 3
   },
   "file_extension": ".py",
   "mimetype": "text/x-python",
   "name": "python",
   "nbconvert_exporter": "python",
   "pygments_lexer": "ipython3",
   "version": "3.10.9"
  }
 },
 "nbformat": 4,
 "nbformat_minor": 5
}
